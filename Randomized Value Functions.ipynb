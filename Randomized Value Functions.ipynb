{
 "cells": [
  {
   "cell_type": "code",
   "execution_count": 1,
   "metadata": {},
   "outputs": [],
   "source": [
    "%load_ext autoreload\n",
    "%autoreload 2"
   ]
  },
  {
   "cell_type": "code",
   "execution_count": 2,
   "metadata": {},
   "outputs": [
    {
     "name": "stdout",
     "output_type": "stream",
     "text": [
      "WARN: gym.spaces.Box autodetected dtype as <class 'numpy.float32'>. Please provide explicit dtype.\n"
     ]
    }
   ],
   "source": [
    "import gym\n",
    "import math\n",
    "import random\n",
    "import numpy as np\n",
    "import matplotlib\n",
    "import matplotlib.pyplot as plt\n",
    "from collections import namedtuple\n",
    "from itertools import count\n",
    "from PIL import Image\n",
    "\n",
    "import torch\n",
    "import torch.nn as nn\n",
    "import torch.optim as optim\n",
    "import torch.nn.functional as F\n",
    "import torchvision.transforms as T\n",
    "\n",
    "\n",
    "env = gym.make('MountainCar-v0').env\n",
    "env.reset()\n",
    "\n",
    "# set up matplotlib\n",
    "is_ipython = 'inline' in matplotlib.get_backend()\n",
    "if is_ipython:\n",
    "    from IPython import display\n",
    "\n",
    "plt.ion()\n",
    "\n",
    "# if gpu is to be used\n",
    "# device = torch.device(\"cuda\" if torch.cuda.is_available() else \"cpu\")\n",
    "device = torch.device(\"cpu\")"
   ]
  },
  {
   "cell_type": "code",
   "execution_count": 3,
   "metadata": {},
   "outputs": [],
   "source": [
    "Transition = namedtuple('Transition',\n",
    "                        ('state', 'action', 'next_state', 'reward'))\n",
    "\n",
    "\n",
    "class ReplayMemory(object):\n",
    "\n",
    "    def __init__(self, capacity):\n",
    "        self.capacity = capacity\n",
    "        self.memory = []\n",
    "        self.position = 0\n",
    "\n",
    "    def push(self, *args):\n",
    "        \"\"\"Saves a transition.\"\"\"\n",
    "        if len(self.memory) < self.capacity:\n",
    "            self.memory.append(None)\n",
    "        self.memory[self.position] = Transition(*args)\n",
    "        self.position = (self.position + 1) % self.capacity\n",
    "\n",
    "    def sample(self, batch_size):\n",
    "        return random.sample(self.memory, batch_size)\n",
    "\n",
    "    def __len__(self):\n",
    "        return len(self.memory)"
   ]
  },
  {
   "cell_type": "code",
   "execution_count": 4,
   "metadata": {},
   "outputs": [],
   "source": [
    "class DQN(nn.Module):\n",
    "\n",
    "    def __init__(self, input_size, output_size):\n",
    "        super(DQN, self).__init__()\n",
    "        self.linear1 = nn.Linear(input_size, 50)\n",
    "        self.linear2 = nn.Linear(50, 50)\n",
    "        self.head = nn.Linear(50, output_size)\n",
    "\n",
    "    # Called with either one element to determine next action, or a batch\n",
    "    # during optimization. Returns tensor([[left0exp,right0exp]...]).\n",
    "    def forward(self, x):\n",
    "        x = F.relu(self.linear1(x))\n",
    "        x = F.relu(self.linear2(x))\n",
    "        return self.head(x)"
   ]
  },
  {
   "cell_type": "code",
   "execution_count": 5,
   "metadata": {},
   "outputs": [],
   "source": [
    "BATCH_SIZE = 128\n",
    "GAMMA = 0.99\n",
    "EPS_START = 0.9\n",
    "EPS_END = 0.05\n",
    "EPS_DECAY = 200\n",
    "TARGET_UPDATE = 10\n",
    "INPUT_SIZE = 2\n",
    "OUTPUT_SIZE = 3\n",
    "LR = 0.001"
   ]
  },
  {
   "cell_type": "code",
   "execution_count": 6,
   "metadata": {},
   "outputs": [],
   "source": [
    "steps_done = 0\n",
    "\n",
    "def eps_greedy_select_action(policy_net, state):\n",
    "    global steps_done\n",
    "    sample = random.random()\n",
    "    eps_threshold = EPS_END + (EPS_START - EPS_END) * \\\n",
    "        math.exp(-1. * steps_done / EPS_DECAY)\n",
    "    steps_done += 1\n",
    "    if sample > eps_threshold:\n",
    "        with torch.no_grad():\n",
    "            return policy_net(state).max(1)[1].view(1, 1)\n",
    "    else:\n",
    "        return torch.tensor([[random.randrange(3)]], device=device, dtype=torch.long)\n",
    "    \n",
    "def select_action(policy_net, state):\n",
    "    with torch.no_grad():\n",
    "        return policy_net(state).max(1)[1].view(1, 1)"
   ]
  },
  {
   "cell_type": "code",
   "execution_count": 7,
   "metadata": {},
   "outputs": [],
   "source": [
    "def optimize_model(optimizer, policy_net, target_net, memory, perturb=False):\n",
    "    if len(memory) < BATCH_SIZE:\n",
    "        return\n",
    "    transitions = memory.sample(BATCH_SIZE)\n",
    "    batch = Transition(*zip(*transitions))\n",
    "    non_final_mask = torch.tensor(tuple(map(lambda s: s is not None,\n",
    "                                          batch.next_state)), device=device, dtype=torch.uint8)\n",
    "    non_final_next_states = torch.cat([s for s in batch.next_state\n",
    "                                                if s is not None])\n",
    "    state_batch = torch.cat(batch.state)\n",
    "    action_batch = torch.cat(batch.action)\n",
    "    rewards = list(batch.reward)\n",
    "    if perturb:\n",
    "        for i, _ in enumerate(rewards):\n",
    "            rewards[i] += np.random.normal(0, 1)\n",
    "\n",
    "    reward_batch = torch.cat(tuple(rewards))\n",
    "\n",
    "    state_action_values = policy_net(state_batch).gather(1, action_batch)\n",
    "\n",
    "    next_state_values = torch.zeros(BATCH_SIZE, device=device)\n",
    "    next_state_values[non_final_mask] = target_net(non_final_next_states).max(1)[0].detach()\n",
    "    \n",
    "    expected_state_action_values = (next_state_values * GAMMA) + reward_batch\n",
    "\n",
    "    loss_fn = nn.MSELoss()\n",
    "    loss = loss_fn(state_action_values, expected_state_action_values.unsqueeze(1))\n",
    "\n",
    "    optimizer.zero_grad()\n",
    "    loss.backward()\n",
    "#     for param in policy_net.parameters():\n",
    "#         param.grad.data.clamp_(-1, 1)\n",
    "    optimizer.step()"
   ]
  },
  {
   "cell_type": "code",
   "execution_count": 8,
   "metadata": {},
   "outputs": [],
   "source": [
    "import numpy as np\n",
    "from tqdm import tqdm_notebook as tqdm"
   ]
  },
  {
   "cell_type": "code",
   "execution_count": 11,
   "metadata": {},
   "outputs": [
    {
     "data": {
      "application/vnd.jupyter.widget-view+json": {
       "model_id": "51df7157c1a944d0a718e9443ac20d08",
       "version_major": 2,
       "version_minor": 0
      },
      "text/plain": [
       "HBox(children=(IntProgress(value=0, max=2000), HTML(value='')))"
      ]
     },
     "metadata": {},
     "output_type": "display_data"
    },
    {
     "name": "stdout",
     "output_type": "stream",
     "text": [
      "episode 99\n",
      "cumulative reward: -500.0\n",
      "episode 199\n",
      "cumulative reward: -500.0\n",
      "episode 299\n",
      "cumulative reward: -500.0\n",
      "episode 399\n",
      "cumulative reward: -500.0\n",
      "episode 499\n",
      "cumulative reward: -500.0\n",
      "episode 599\n",
      "cumulative reward: -266.0\n",
      "episode 699\n",
      "cumulative reward: -158.0\n",
      "episode 799\n",
      "cumulative reward: -231.0\n",
      "episode 899\n",
      "cumulative reward: -245.0\n",
      "episode 999\n",
      "cumulative reward: -241.0\n",
      "episode 1099\n",
      "cumulative reward: -204.0\n",
      "episode 1199\n",
      "cumulative reward: -377.0\n",
      "episode 1299\n",
      "cumulative reward: -500.0\n",
      "episode 1399\n",
      "cumulative reward: -383.0\n",
      "episode 1499\n",
      "cumulative reward: -500.0\n",
      "episode 1599\n",
      "cumulative reward: -373.0\n",
      "episode 1699\n",
      "cumulative reward: -398.0\n",
      "episode 1799\n",
      "cumulative reward: -455.0\n",
      "episode 1899\n",
      "cumulative reward: -182.0\n",
      "episode 1999\n",
      "cumulative reward: -500.0\n",
      "Complete\n"
     ]
    },
    {
     "data": {
      "image/png": "[encoded data removed]",
      "text/plain": [
       "<Figure size 432x288 with 1 Axes>"
      ]
     },
     "metadata": {},
     "output_type": "display_data"
    }
   ],
   "source": [
    "K = 10\n",
    "\n",
    "policy_nets = [DQN(INPUT_SIZE, OUTPUT_SIZE).to(device) for _ in range(K)]\n",
    "target_nets = [DQN(INPUT_SIZE, OUTPUT_SIZE).to(device) for _ in range(K)]\n",
    "memories = [ReplayMemory(100000) for _ in range(K)]\n",
    "for k in range(K):\n",
    "    target_nets[k].load_state_dict(policy_nets[k].state_dict())\n",
    "    target_nets[k].eval()  \n",
    "\n",
    "optimizers = [optim.SGD(policy_nets[k].parameters(), lr=LR) for k in range(K)]\n",
    "num_episodes = 2000\n",
    "cumulative_rewards_3 = [0 for _ in range(num_episodes)]\n",
    "episode_steps = []\n",
    "for i_episode in tqdm(range(num_episodes)):\n",
    "    state = env.reset()\n",
    "    state = torch.tensor([state], device=device, dtype=torch.float)\n",
    "    cur_net_idx = np.random.choice(K, 1)[0]\n",
    "    policy_net = policy_nets[cur_net_idx]\n",
    "    for t in range(500):\n",
    "        action = select_action(policy_net, state)\n",
    "#         if i_episode > 990:\n",
    "#             env.render()\n",
    "        next_state, reward, done, _ = env.step(action.item())\n",
    "        next_state = torch.tensor([next_state], device=device, dtype=torch.float)\n",
    "        reward = torch.tensor([reward], device=device)\n",
    "        if done:\n",
    "            next_state = None\n",
    "            \n",
    "        for k in range(K):\n",
    "            noise = np.random.normal(0, 1)\n",
    "            memories[k].push(state, action, next_state, reward + noise)\n",
    "            if np.random.choice(2, 1)[0] == 1:\n",
    "                memories[k].push(state, action, next_state, reward)\n",
    "            optimize_model(optimizers[k], policy_nets[k], target_nets[k], memories[k])\n",
    "        \n",
    "        state = next_state\n",
    "        cumulative_rewards_3[i_episode] += reward.item()\n",
    "        \n",
    "        if done:\n",
    "            break\n",
    "            \n",
    "    if i_episode % TARGET_UPDATE == 0:\n",
    "        for k in range(K):\n",
    "            target_nets[k].load_state_dict(policy_nets[k].state_dict())\n",
    "        \n",
    "    if (i_episode + 1) % 100 == 0:\n",
    "        print('episode ' + str(i_episode))\n",
    "        print('cumulative reward: ' + str(cumulative_rewards_3[i_episode]))\n",
    "\n",
    "print('Complete')\n",
    "plt.title('Training...')\n",
    "plt.xlabel('Episode')\n",
    "plt.ylabel('Cumulative Reward')\n",
    "plt.plot(cumulative_rewards_3)\n",
    "plt.show()\n",
    "env.close()"
   ]
  },
  {
   "cell_type": "markdown",
   "metadata": {},
   "source": [
    "Randomized Value Functions without Ensemble and Boostrapping"
   ]
  },
  {
   "cell_type": "code",
   "execution_count": 8,
   "metadata": {},
   "outputs": [
    {
     "data": {
      "application/vnd.jupyter.widget-view+json": {
       "model_id": "15f693b018554e5ea5fa83b919ddbe3f",
       "version_major": 2,
       "version_minor": 0
      },
      "text/plain": [
       "HBox(children=(IntProgress(value=0, max=2000), HTML(value='')))"
      ]
     },
     "metadata": {},
     "output_type": "display_data"
    },
    {
     "name": "stdout",
     "output_type": "stream",
     "text": [
      "Episode 99\n",
      "Cumulative reward: -500.0\n",
      "Episode 199\n",
      "Cumulative reward: -500.0\n",
      "Episode 299\n",
      "Cumulative reward: -500.0\n",
      "Episode 399\n",
      "Cumulative reward: -303.0\n",
      "Episode 499\n",
      "Cumulative reward: -500.0\n",
      "Episode 599\n",
      "Cumulative reward: -500.0\n",
      "Episode 699\n",
      "Cumulative reward: -500.0\n",
      "Episode 799\n",
      "Cumulative reward: -262.0\n",
      "Episode 899\n",
      "Cumulative reward: -500.0\n",
      "Episode 999\n",
      "Cumulative reward: -360.0\n",
      "Episode 1099\n",
      "Cumulative reward: -330.0\n",
      "Episode 1199\n",
      "Cumulative reward: -345.0\n",
      "Episode 1299\n",
      "Cumulative reward: -500.0\n",
      "Episode 1399\n",
      "Cumulative reward: -444.0\n",
      "Episode 1499\n",
      "Cumulative reward: -255.0\n",
      "Episode 1599\n",
      "Cumulative reward: -213.0\n",
      "Episode 1699\n",
      "Cumulative reward: -242.0\n",
      "Episode 1799\n",
      "Cumulative reward: -171.0\n",
      "Episode 1899\n",
      "Cumulative reward: -181.0\n",
      "Episode 1999\n",
      "Cumulative reward: -83.0\n",
      "\n",
      "Complete\n"
     ]
    },
    {
     "data": {
      "image/png": "[encoded data removed]",
      "text/plain": [
       "<Figure size 432x288 with 1 Axes>"
      ]
     },
     "metadata": {},
     "output_type": "display_data"
    }
   ],
   "source": [
    "policy_net = DQN(INPUT_SIZE, OUTPUT_SIZE).to(device)\n",
    "target_net = DQN(INPUT_SIZE, OUTPUT_SIZE).to(device)\n",
    "target_net.load_state_dict(policy_net.state_dict())\n",
    "target_net.eval()\n",
    "\n",
    "optimizer = optim.SGD(policy_net.parameters(), lr=LR)\n",
    "num_episodes = 2000\n",
    "cumulative_rewards_1 = [0 for _ in range(num_episodes)]\n",
    "perturbed_memory = ReplayMemory(100000)\n",
    "\n",
    "for i_episode in tqdm(range(num_episodes), ascii=True):\n",
    "    state = env.reset()\n",
    "    state = torch.tensor([state], device=device, dtype=torch.float)\n",
    "    for t in range(500):\n",
    "#         if (i_episode + 1) % 100 == 0:\n",
    "#             env.render()\n",
    "        action = select_action(policy_net, state)\n",
    "        next_state, reward, done, _ = env.step(action.item())\n",
    "        next_state = torch.tensor([next_state], device=device, dtype=torch.float)\n",
    "        reward = torch.tensor([reward], device=device)\n",
    "        if done:\n",
    "            next_state = None\n",
    "        \n",
    "        perturbed_memory.push(state, action, next_state, reward)\n",
    "        cumulative_rewards_1[i_episode] += reward.item()\n",
    "        \n",
    "        if done:\n",
    "            break\n",
    "        \n",
    "        state = next_state\n",
    "        optimize_model(optimizer, policy_net, target_net, perturbed_memory, perturb=True)\n",
    "\n",
    "    if (i_episode + 1) % TARGET_UPDATE == 0:\n",
    "        target_net.load_state_dict(policy_net.state_dict())\n",
    "    if (i_episode + 1) % 100 == 0:\n",
    "        print('Episode ' + str(i_episode))\n",
    "        print('Cumulative reward: ' + str(cumulative_rewards_1[i_episode]))\n",
    "        \n",
    "print('Complete')\n",
    "plt.title('Training...')\n",
    "plt.xlabel('Episode')\n",
    "plt.ylabel('Duration')\n",
    "plt.plot(cumulative_rewards_1)\n",
    "plt.show()\n",
    "env.close()"
   ]
  },
  {
   "cell_type": "code",
   "execution_count": null,
   "metadata": {},
   "outputs": [],
   "source": []
  }
 ],
 "metadata": {
  "kernelspec": {
   "display_name": "Python 3",
   "language": "python",
   "name": "python3"
  },
  "language_info": {
   "codemirror_mode": {
    "name": "ipython",
    "version": 3
   },
   "file_extension": ".py",
   "mimetype": "text/x-python",
   "name": "python",
   "nbconvert_exporter": "python",
   "pygments_lexer": "ipython3",
   "version": "3.6.5"
  }
 },
 "nbformat": 4,
 "nbformat_minor": 2
}
